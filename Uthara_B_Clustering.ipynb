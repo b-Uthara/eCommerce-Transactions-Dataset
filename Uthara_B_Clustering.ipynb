{
 "cells": [
  {
   "cell_type": "code",
   "execution_count": null,
   "metadata": {},
   "outputs": [],
   "source": [
    "# Task 3: Customer Segmentation\n",
    "\n",
    "kmeans = KMeans(n_clusters=4, random_state=42)\n",
    "customer_features[\"Cluster\"] = kmeans.fit_predict(scaled_features)\n",
    "\n",
    "db_index = davies_bouldin_score(scaled_features, customer_features[\"Cluster\"])\n",
    "print(f\"Davies-Bouldin Index: {db_index}\")\n",
    "\n",
    "plt.figure(figsize=(8, 6))\n",
    "sns.scatterplot(data=customer_features, x=scaled_features[:, 0], y=scaled_features[:, 1], hue=\"Cluster\", palette=\"viridis\")\n",
    "plt.title(\"Customer Clusters\")\n",
    "plt.savefig(\"Uthara_B_Clustering.png\")\n",
    "plt.close()\n",
    "\n",
    "clustering_report = f\"\"\"\n",
    "Number of clusters: 4\n",
    "Davies-Bouldin Index: {db_index}\n",
    "Other Metrics: TBD\n",
    "\"\"\"\n",
    "with open(\"Uthara_B_Clustering.pdf\", \"w\") as f:\n",
    "    f.write(clustering_report)\n",
    "\n",
    "print(\" Outputs saved to respective files.\")"
   ]
  }
 ],
 "metadata": {
  "language_info": {
   "name": "python"
  },
  "orig_nbformat": 4
 },
 "nbformat": 4,
 "nbformat_minor": 2
}
